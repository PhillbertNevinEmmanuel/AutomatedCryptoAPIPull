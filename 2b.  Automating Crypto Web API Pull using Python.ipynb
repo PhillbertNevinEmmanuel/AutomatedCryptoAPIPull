{
 "cells": [
  {
   "cell_type": "code",
   "execution_count": null,
   "id": "f1f4f38a-f235-482b-a0a6-93bc9bd2637d",
   "metadata": {
    "scrolled": true
   },
   "outputs": [],
   "source": [
    " #This example uses Python 2.7 and the python-request library.\n",
    "\n",
    "from requests import Request, Session\n",
    "from requests.exceptions import ConnectionError, Timeout, TooManyRedirects\n",
    "import json\n",
    "\n",
    "url = 'https://pro-api.coinmarketcap.com/v1/cryptocurrency/listings/latest'\n",
    "parameters = {\n",
    "  'start':'1',\n",
    "  'limit':'50',\n",
    "  'convert':'USD'\n",
    "}\n",
    "headers = {\n",
    "  'Accepts': 'application/json',\n",
    "  'X-CMC_PRO_API_KEY': '52b363ed-4aed-451c-9157-8cc986172de0',\n",
    "}\n",
    "\n",
    "session = Session()\n",
    "session.headers.update(headers)\n",
    "\n",
    "try:\n",
    "  response = session.get(url, params=parameters)\n",
    "  data = json.loads(response.text)\n",
    "  print(data)\n",
    "except (ConnectionError, Timeout, TooManyRedirects) as e:\n",
    "  print(e)"
   ]
  },
  {
   "cell_type": "code",
   "execution_count": null,
   "id": "49ea4adc-5cf2-46eb-a2d8-533b58ee72d3",
   "metadata": {},
   "outputs": [],
   "source": [
    "type(data)"
   ]
  },
  {
   "cell_type": "code",
   "execution_count": null,
   "id": "0f6e03e4-c4e5-4523-845c-3eec13ad0ac7",
   "metadata": {},
   "outputs": [],
   "source": [
    "import pandas as pd\n",
    "pd.set_option('display.max_column', None)\n",
    "pd.set_option('display.max_row', None)"
   ]
  },
  {
   "cell_type": "code",
   "execution_count": null,
   "id": "a1f23ce3-96ea-4480-bcba-77df825da79f",
   "metadata": {
    "scrolled": true
   },
   "outputs": [],
   "source": [
    "import datetime\n",
    "\n",
    "df = pd.json_normalize(data['data'])\n",
    "df['timestamp'] = datetime.datetime.now()\n",
    "df"
   ]
  },
  {
   "cell_type": "code",
   "execution_count": null,
   "id": "b8931411-1d6d-4a88-a3bf-7468e2c816df",
   "metadata": {},
   "outputs": [],
   "source": [
    "def api_runner():\n",
    "     #This example uses Python 2.7 and the python-request library.\n",
    "    global df\n",
    "    from requests import Request, Session\n",
    "    from requests.exceptions import ConnectionError, Timeout, TooManyRedirects\n",
    "    import json\n",
    "    import os\n",
    "    from time import time\n",
    "    from time import sleep\n",
    "    \n",
    "    url = 'https://pro-api.coinmarketcap.com/v1/cryptocurrency/listings/latest'\n",
    "    parameters = {\n",
    "      'start':'1',\n",
    "      'limit':'20',\n",
    "      'convert':'USD'\n",
    "    }\n",
    "    headers = {\n",
    "      'Accepts': 'application/json',\n",
    "      'X-CMC_PRO_API_KEY': '52b363ed-4aed-451c-9157-8cc986172de0',\n",
    "    }\n",
    "    \n",
    "    session = Session()\n",
    "    session.headers.update(headers)\n",
    "    \n",
    "    try:\n",
    "      response = session.get(url, params=parameters)\n",
    "      data = json.loads(response.text)\n",
    "      #print(data)\n",
    "    except (ConnectionError, Timeout, TooManyRedirects) as e:\n",
    "      print(e)\n",
    "\n",
    "    import pandas as pd\n",
    "    import datetime\n",
    "    \n",
    "    df = pd.json_normalize(data['data'])\n",
    "    df['timestamp'] = datetime.datetime.now()\n",
    "\n",
    "    if not os.path.isfile(r\"D:\\nevinphilbert\\Portfolio\\Python Builder\\Automated Crypto API Pull using Python\\API Pull.csv\"):\n",
    "        df.to_csv(r\"D:\\nevinphilbert\\Portfolio\\Python Builder\\Automated Crypto API Pull using Python\\API Pull.csv\", header='column_names')\n",
    "    else:\n",
    "        df.to_csv(r\"D:\\nevinphilbert\\Portfolio\\Python Builder\\Automated Crypto API Pull using Python\\API Pull.csv\", mode='a', header=False)"
   ]
  },
  {
   "cell_type": "code",
   "execution_count": null,
   "id": "507760df-7a43-43c8-bcc1-88595ada1d12",
   "metadata": {},
   "outputs": [],
   "source": [
    "import os\n",
    "from time import time\n",
    "from time import sleep\n",
    "\n",
    "for i in range(100):\n",
    "    api_runner()\n",
    "    print('API Runner completed')\n",
    "    sleep(300) #sleep for 5 minutes\n",
    "exit()"
   ]
  },
  {
   "cell_type": "code",
   "execution_count": null,
   "id": "0eca8893-9120-41bb-89a4-23b707a73970",
   "metadata": {
    "scrolled": true
   },
   "outputs": [],
   "source": [
    "df_new = pd.read_csv(r\"D:\\nevinphilbert\\Portfolio\\Python Builder\\Automated Crypto API Pull using Python\\API Pull.csv\")\n",
    "df_new"
   ]
  },
  {
   "cell_type": "code",
   "execution_count": null,
   "id": "e3432313-d133-4b4c-a82e-4b3f2dee3d54",
   "metadata": {},
   "outputs": [],
   "source": [
    "pd.set_option('display.float_format', lambda x: '%.5f' % x)"
   ]
  },
  {
   "cell_type": "code",
   "execution_count": null,
   "id": "4824613c-6990-4894-9169-35092d21f55d",
   "metadata": {},
   "outputs": [],
   "source": [
    "df_new.columns.tolist()"
   ]
  },
  {
   "cell_type": "code",
   "execution_count": null,
   "id": "3ca86106-12cc-4fde-a0f3-2379580914d7",
   "metadata": {},
   "outputs": [],
   "source": [
    "df2 = df_new.groupby('name', sort=False)[['quote.USD.percent_change_1h', 'quote.USD.percent_change_24h', 'quote.USD.percent_change_7d', 'quote.USD.percent_change_30d', 'quote.USD.percent_change_60d', 'quote.USD.percent_change_90d']].mean()\n",
    "df2"
   ]
  },
  {
   "cell_type": "code",
   "execution_count": null,
   "id": "eebfc12a-6c11-4981-b69a-c3e0b4e7b724",
   "metadata": {},
   "outputs": [],
   "source": [
    "dfs = df2.stack()\n",
    "dfs"
   ]
  },
  {
   "cell_type": "code",
   "execution_count": null,
   "id": "7789f9cb-faa2-4e6e-b6a3-60c86908fcea",
   "metadata": {},
   "outputs": [],
   "source": [
    "type(dfs)"
   ]
  },
  {
   "cell_type": "code",
   "execution_count": null,
   "id": "ff7e8310-31c0-4323-a4cc-3925b68cd538",
   "metadata": {
    "scrolled": true
   },
   "outputs": [],
   "source": [
    "df3 = dfs.to_frame(name='values')\n",
    "df_fix = df3.reset_index()\n",
    "df_fix"
   ]
  },
  {
   "cell_type": "code",
   "execution_count": null,
   "id": "3fd9cf07-da9d-4d12-9077-19acaebd473c",
   "metadata": {},
   "outputs": [],
   "source": [
    "type(df_fix)"
   ]
  },
  {
   "cell_type": "code",
   "execution_count": null,
   "id": "1fa4724b-33fd-4f90-a54d-6e68ad816205",
   "metadata": {},
   "outputs": [],
   "source": [
    "df1 = df_fix.rename(columns={'level_1': 'percent_change'})"
   ]
  },
  {
   "cell_type": "code",
   "execution_count": null,
   "id": "bd46caed-2a67-430c-8063-686dd29f7219",
   "metadata": {},
   "outputs": [],
   "source": [
    "df1"
   ]
  },
  {
   "cell_type": "code",
   "execution_count": null,
   "id": "68c5fb84-f77f-48d6-87d9-2c6ae47ee32d",
   "metadata": {},
   "outputs": [],
   "source": [
    "df1['percent_change'] = df1['percent_change'].replace(['quote.USD.percent_change_1h', 'quote.USD.percent_change_24h', 'quote.USD.percent_change_7d', 'quote.USD.percent_change_30d', 'quote.USD.percent_change_60d', 'quote.USD.percent_change_90d'],['1h','24h','7d','30d','60d','90d'])"
   ]
  },
  {
   "cell_type": "code",
   "execution_count": null,
   "id": "ab9d00d9-5200-426d-8cc5-cf561b8b7f5e",
   "metadata": {},
   "outputs": [],
   "source": [
    "pd.set_option('display.max_column', 30)\n",
    "pd.set_option('display.max_row', None)\n",
    "df1.head(50)"
   ]
  },
  {
   "cell_type": "code",
   "execution_count": null,
   "id": "78b0269b-6a3f-46c6-9418-da16ae8a22b0",
   "metadata": {},
   "outputs": [],
   "source": [
    "import seaborn as sns\n",
    "import matplotlib.pyplot as plt"
   ]
  },
  {
   "cell_type": "code",
   "execution_count": null,
   "id": "a6c7988a-6b2c-4c8c-9831-6317dac8e45a",
   "metadata": {},
   "outputs": [],
   "source": [
    "sns.catplot(x='percent_change', y='values', hue='name', data=df1, kind='point', aspect=3)\n",
    "plt.show()"
   ]
  },
  {
   "cell_type": "code",
   "execution_count": null,
   "id": "bcd621e7-60d9-43e0-90f1-207472109961",
   "metadata": {},
   "outputs": [],
   "source": [
    "df_bitcoin_r = df_new[['name', 'quote.USD.price', 'timestamp']]\n",
    "df_bitcoin_r['timestamp'] = pd.to_datetime(df_bitcoin_r['timestamp'])\n",
    "df_bitcoin_r['timestamp'] = df_bitcoin_r['timestamp'].dt.strftime(\"%H:%M\")\n",
    "df_bitcoin = df_bitcoin_r.query(\"name == 'Bitcoin'\")\n",
    "#df_bitcoin['timestamp'] = df_bitcoin['timestamp'].dt.strftime(\"%Y-%m-%d %H:%M\")\n",
    "df_bitcoin"
   ]
  },
  {
   "cell_type": "code",
   "execution_count": null,
   "id": "7d236ff6-3635-46a4-9839-a02386a9a3c9",
   "metadata": {},
   "outputs": [],
   "source": [
    "sns.set_theme(style='darkgrid')\n",
    "plt.figure(figsize=(30, 6))\n",
    "sns.lineplot(x='timestamp', y='quote.USD.price', data=df_bitcoin)"
   ]
  }
 ],
 "metadata": {
  "kernelspec": {
   "display_name": "Python 3 (ipykernel)",
   "language": "python",
   "name": "python3"
  },
  "language_info": {
   "codemirror_mode": {
    "name": "ipython",
    "version": 3
   },
   "file_extension": ".py",
   "mimetype": "text/x-python",
   "name": "python",
   "nbconvert_exporter": "python",
   "pygments_lexer": "ipython3",
   "version": "3.11.3"
  }
 },
 "nbformat": 4,
 "nbformat_minor": 5
}
